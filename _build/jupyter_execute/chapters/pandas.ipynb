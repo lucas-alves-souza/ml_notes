{
 "cells": [
  {
   "attachments": {},
   "cell_type": "markdown",
   "metadata": {},
   "source": [
    "#  Pandas \n",
    "\n",
    "<img src=\"https://pandas.pydata.org/docs/_static/pandas.svg\" alt=\" \" class=\"bg-primary mb-1\" width=\"200px\">\n",
    " \n",
    "\n",
    "A documentação do pacote Pandas se encontra disponível em: [https://pandas.pydata.org/docs/](https://pandas.pydata.org/docs/) .\n",
    "<!-- \n",
    "\n",
    "$\n",
    "1+2\n",
    "$\n",
    "\n",
    "\\begin{gather*}\n",
    "a_1=b_1+c_1\\\\\n",
    "a_2=b_2+c_2-d_2+e_2\n",
    "\\end{gather*}\n",
    "\n",
    "\\begin{align}\n",
    "a_{11}& =b_{11}&\n",
    "  a_{12}& =b_{12}\\\\\n",
    "a_{21}& =b_{21}&\n",
    "  a_{22}& =b_{22}+c_{22}\n",
    "\\end{align}\n",
    "  -->\n",
    "\n"
   ]
  },
  {
   "cell_type": "markdown",
   "metadata": {},
   "source": [
    "```{contents} \n",
    "```"
   ]
  },
  {
   "attachments": {},
   "cell_type": "markdown",
   "metadata": {},
   "source": [
    "## Criação de dois dataframes para aplicação das ferramentas do Pandas\n",
    "\n",
    "Serão criados dois dataframes com notas de alunos em algumas disciplinas em meses do ano de 2023. Os nomes dos alunos são gerados aleatoriamente, bem como suas as notas. Se você não tiver disposto a seguir o processo de geração das bases de dados, pule para a próxima seção, onde os dataframes serão lidos de arquivos e usados para treinar o uso das ferramentas do Pandas. "
   ]
  },
  {
   "cell_type": "code",
   "execution_count": 1,
   "metadata": {},
   "outputs": [
    {
     "data": {
      "text/plain": [
       "'1.4.2'"
      ]
     },
     "execution_count": 1,
     "metadata": {},
     "output_type": "execute_result"
    }
   ],
   "source": [
    "# importação do pandas\n",
    "import pandas as pd\n",
    "# versão\n",
    "pd.__version__ "
   ]
  },
  {
   "cell_type": "code",
   "execution_count": 2,
   "metadata": {},
   "outputs": [],
   "source": [
    "df_1 = pd.DataFrame(columns=['aluno', 'identificacao', 'mes',   'nota matematica', 'nota fisica'])\n",
    "df_2 = pd.DataFrame(columns=[          'identificacao',  'turma', 'mes','nota geografia', 'nota historia']) \n",
    "# O dataframe 2 não possui nome do aluno, somente identificação"
   ]
  },
  {
   "cell_type": "code",
   "execution_count": 3,
   "metadata": {},
   "outputs": [],
   "source": [
    "# ! pip install names_generator\n",
    " # instala pacote que gera nomes aleatórios"
   ]
  },
  {
   "cell_type": "code",
   "execution_count": 4,
   "metadata": {},
   "outputs": [],
   "source": [
    "from names_generator import generate_name\n",
    "\n",
    "# guarda lista de 40 nomes gerados aleatoriamente\n",
    "list_names = []\n",
    "for i in range(40): \n",
    "    list_names.append(generate_name(style='capital', seed=i)) "
   ]
  },
  {
   "cell_type": "code",
   "execution_count": 5,
   "metadata": {},
   "outputs": [
    {
     "data": {
      "text/plain": [
       "['Hopeful Sanderson',\n",
       " 'Competent Mayer',\n",
       " 'Beautiful Bohr',\n",
       " 'Elegant Mendel',\n",
       " 'Elegant Gagarin']"
      ]
     },
     "execution_count": 5,
     "metadata": {},
     "output_type": "execute_result"
    }
   ],
   "source": [
    "# mostrando os 5 primeiros nomes\n",
    "list_names[0:5]"
   ]
  },
  {
   "cell_type": "code",
   "execution_count": 6,
   "metadata": {},
   "outputs": [],
   "source": [
    "# atribuindo nomes gerados aos alunos do dataframe 1\n",
    "df_1['aluno'] = list_names"
   ]
  },
  {
   "cell_type": "code",
   "execution_count": 7,
   "metadata": {},
   "outputs": [
    {
     "data": {
      "text/html": [
       "<div>\n",
       "<style scoped>\n",
       "    .dataframe tbody tr th:only-of-type {\n",
       "        vertical-align: middle;\n",
       "    }\n",
       "\n",
       "    .dataframe tbody tr th {\n",
       "        vertical-align: top;\n",
       "    }\n",
       "\n",
       "    .dataframe thead th {\n",
       "        text-align: right;\n",
       "    }\n",
       "</style>\n",
       "<table border=\"1\" class=\"dataframe\">\n",
       "  <thead>\n",
       "    <tr style=\"text-align: right;\">\n",
       "      <th></th>\n",
       "      <th>aluno</th>\n",
       "      <th>identificacao</th>\n",
       "      <th>mes</th>\n",
       "      <th>nota matematica</th>\n",
       "      <th>nota fisica</th>\n",
       "    </tr>\n",
       "  </thead>\n",
       "  <tbody>\n",
       "    <tr>\n",
       "      <th>0</th>\n",
       "      <td>Hopeful Sanderson</td>\n",
       "      <td>NaN</td>\n",
       "      <td>NaN</td>\n",
       "      <td>NaN</td>\n",
       "      <td>NaN</td>\n",
       "    </tr>\n",
       "    <tr>\n",
       "      <th>1</th>\n",
       "      <td>Competent Mayer</td>\n",
       "      <td>NaN</td>\n",
       "      <td>NaN</td>\n",
       "      <td>NaN</td>\n",
       "      <td>NaN</td>\n",
       "    </tr>\n",
       "    <tr>\n",
       "      <th>2</th>\n",
       "      <td>Beautiful Bohr</td>\n",
       "      <td>NaN</td>\n",
       "      <td>NaN</td>\n",
       "      <td>NaN</td>\n",
       "      <td>NaN</td>\n",
       "    </tr>\n",
       "    <tr>\n",
       "      <th>3</th>\n",
       "      <td>Elegant Mendel</td>\n",
       "      <td>NaN</td>\n",
       "      <td>NaN</td>\n",
       "      <td>NaN</td>\n",
       "      <td>NaN</td>\n",
       "    </tr>\n",
       "    <tr>\n",
       "      <th>4</th>\n",
       "      <td>Elegant Gagarin</td>\n",
       "      <td>NaN</td>\n",
       "      <td>NaN</td>\n",
       "      <td>NaN</td>\n",
       "      <td>NaN</td>\n",
       "    </tr>\n",
       "  </tbody>\n",
       "</table>\n",
       "</div>"
      ],
      "text/plain": [
       "               aluno identificacao  mes nota matematica nota fisica\n",
       "0  Hopeful Sanderson           NaN  NaN             NaN         NaN\n",
       "1    Competent Mayer           NaN  NaN             NaN         NaN\n",
       "2     Beautiful Bohr           NaN  NaN             NaN         NaN\n",
       "3     Elegant Mendel           NaN  NaN             NaN         NaN\n",
       "4    Elegant Gagarin           NaN  NaN             NaN         NaN"
      ]
     },
     "execution_count": 7,
     "metadata": {},
     "output_type": "execute_result"
    }
   ],
   "source": [
    "# 5 primeiras linhas do dataframe 1\n",
    "df_1.head()"
   ]
  },
  {
   "cell_type": "code",
   "execution_count": 8,
   "metadata": {},
   "outputs": [],
   "source": [
    "# o número de identificação dos alunos também será escolhido aleatoriamente com o pacote numpy\n",
    "import numpy as np\n",
    "# semente randômica para reproduzir lista\n",
    "np.random.seed(0)\n",
    "\n",
    "# lista de numéros aleatórios do tamanho do dataframe 1 (sem haver repetição) \n",
    "df_1['identificacao'] = np.random.choice(range(1200,1500), size=len(df_1), replace=False)\n",
    "\n",
    "# a mesma lista é atribuída para o dataframe 2\n",
    "df_2['identificacao'] = df_1['identificacao'] "
   ]
  },
  {
   "cell_type": "code",
   "execution_count": 9,
   "metadata": {},
   "outputs": [
    {
     "data": {
      "text/plain": [
       "count     40\n",
       "unique     2\n",
       "top        A\n",
       "freq      20\n",
       "Name: turma, dtype: object"
      ]
     },
     "execution_count": 9,
     "metadata": {},
     "output_type": "execute_result"
    }
   ],
   "source": [
    "# turma escolhida entre A e B com 50% de alunos em cada\n",
    "df_2['turma'] = int(len(df_2)/2)*['A'] + int(len(df_2)/2)*['B'] # preenche a primeira metade de valores como turma A e segunda metade com turma B \n",
    "df_2['turma'].describe() \n"
   ]
  },
  {
   "cell_type": "code",
   "execution_count": 10,
   "metadata": {},
   "outputs": [],
   "source": [
    "# definiremos os meses (de aula) de fevereiro a novembro do ano de 2023, assim cada aluno terá uma nota por disciplina em cada mês\n",
    "\n",
    "meses = pd.date_range(start = '2023-02-01', end = '2023-10-01').to_period('M').unique() \n",
    "\n",
    "df1 = pd.DataFrame() # novos dataframes com os meses de 2023\n",
    "df2 = pd.DataFrame()\n",
    "\n",
    "for mes in meses:\n",
    "    df_1_aux = df_1.copy() # dataframe auxiliar para guardar o original\n",
    "    df_1_aux['mes'] = mes\n",
    "    df_2_aux = df_2.copy() \n",
    "    df_2_aux['mes'] = mes\n",
    "    df1 = pd.concat([df1, df_1_aux])\n",
    "    df2 = pd.concat([df2, df_2_aux])"
   ]
  },
  {
   "cell_type": "code",
   "execution_count": 11,
   "metadata": {},
   "outputs": [],
   "source": [
    "# Atribuiremos notas aleatórias nos dois dataframes onde, alguns valores, intencionalmente serão deixados como nulos.\n",
    "\n",
    "# definindo uma lista de disciplinas para simplificar\n",
    "disciplinas = ['fisica','matematica', 'geografia','historia']\n",
    "\n",
    "for id in df1['identificacao'].unique():\n",
    "    for disciplina in disciplinas:\n",
    "        if np.random.random() < 0.95:   # em 95% atribui nota, em 5% as notas serão valores nulos\n",
    "            \n",
    "            if disciplina in ['fisica','matematica']:\n",
    "                df1.loc[df1['identificacao']==id, 'nota '+disciplina]  = round((np.random.uniform(0,10)),1) # float com uma casa decimal\n",
    "            else:\n",
    "                df2.loc[df2['identificacao']==id, 'nota '+disciplina]  = round((np.random.uniform(0,10)),1)    "
   ]
  },
  {
   "cell_type": "code",
   "execution_count": 12,
   "metadata": {},
   "outputs": [
    {
     "data": {
      "text/html": [
       "<div>\n",
       "<style scoped>\n",
       "    .dataframe tbody tr th:only-of-type {\n",
       "        vertical-align: middle;\n",
       "    }\n",
       "\n",
       "    .dataframe tbody tr th {\n",
       "        vertical-align: top;\n",
       "    }\n",
       "\n",
       "    .dataframe thead th {\n",
       "        text-align: right;\n",
       "    }\n",
       "</style>\n",
       "<table border=\"1\" class=\"dataframe\">\n",
       "  <thead>\n",
       "    <tr style=\"text-align: right;\">\n",
       "      <th></th>\n",
       "      <th>aluno</th>\n",
       "      <th>identificacao</th>\n",
       "      <th>mes</th>\n",
       "      <th>nota matematica</th>\n",
       "      <th>nota fisica</th>\n",
       "    </tr>\n",
       "  </thead>\n",
       "  <tbody>\n",
       "    <tr>\n",
       "      <th>0</th>\n",
       "      <td>Hopeful Sanderson</td>\n",
       "      <td>1408</td>\n",
       "      <td>2023-02</td>\n",
       "      <td>1.8</td>\n",
       "      <td>7.0</td>\n",
       "    </tr>\n",
       "    <tr>\n",
       "      <th>1</th>\n",
       "      <td>Competent Mayer</td>\n",
       "      <td>1388</td>\n",
       "      <td>2023-02</td>\n",
       "      <td>NaN</td>\n",
       "      <td>9.0</td>\n",
       "    </tr>\n",
       "    <tr>\n",
       "      <th>2</th>\n",
       "      <td>Beautiful Bohr</td>\n",
       "      <td>1212</td>\n",
       "      <td>2023-02</td>\n",
       "      <td>5.9</td>\n",
       "      <td>3.2</td>\n",
       "    </tr>\n",
       "    <tr>\n",
       "      <th>3</th>\n",
       "      <td>Elegant Mendel</td>\n",
       "      <td>1421</td>\n",
       "      <td>2023-02</td>\n",
       "      <td>NaN</td>\n",
       "      <td>1.9</td>\n",
       "    </tr>\n",
       "    <tr>\n",
       "      <th>4</th>\n",
       "      <td>Elegant Gagarin</td>\n",
       "      <td>1439</td>\n",
       "      <td>2023-02</td>\n",
       "      <td>0.3</td>\n",
       "      <td>2.1</td>\n",
       "    </tr>\n",
       "    <tr>\n",
       "      <th>...</th>\n",
       "      <td>...</td>\n",
       "      <td>...</td>\n",
       "      <td>...</td>\n",
       "      <td>...</td>\n",
       "      <td>...</td>\n",
       "    </tr>\n",
       "    <tr>\n",
       "      <th>35</th>\n",
       "      <td>Nostalgic Goldstine</td>\n",
       "      <td>1350</td>\n",
       "      <td>2023-10</td>\n",
       "      <td>8.4</td>\n",
       "      <td>4.5</td>\n",
       "    </tr>\n",
       "    <tr>\n",
       "      <th>36</th>\n",
       "      <td>Gifted Bassi</td>\n",
       "      <td>1376</td>\n",
       "      <td>2023-10</td>\n",
       "      <td>7.0</td>\n",
       "      <td>9.4</td>\n",
       "    </tr>\n",
       "    <tr>\n",
       "      <th>37</th>\n",
       "      <td>Silly Merkle</td>\n",
       "      <td>1382</td>\n",
       "      <td>2023-10</td>\n",
       "      <td>1.5</td>\n",
       "      <td>0.7</td>\n",
       "    </tr>\n",
       "    <tr>\n",
       "      <th>38</th>\n",
       "      <td>Relaxed Hypatia</td>\n",
       "      <td>1499</td>\n",
       "      <td>2023-10</td>\n",
       "      <td>2.7</td>\n",
       "      <td>9.7</td>\n",
       "    </tr>\n",
       "    <tr>\n",
       "      <th>39</th>\n",
       "      <td>Eager Elion</td>\n",
       "      <td>1205</td>\n",
       "      <td>2023-10</td>\n",
       "      <td>2.5</td>\n",
       "      <td>4.6</td>\n",
       "    </tr>\n",
       "  </tbody>\n",
       "</table>\n",
       "<p>360 rows × 5 columns</p>\n",
       "</div>"
      ],
      "text/plain": [
       "                  aluno  identificacao      mes nota matematica nota fisica\n",
       "0     Hopeful Sanderson           1408  2023-02             1.8         7.0\n",
       "1       Competent Mayer           1388  2023-02             NaN         9.0\n",
       "2        Beautiful Bohr           1212  2023-02             5.9         3.2\n",
       "3        Elegant Mendel           1421  2023-02             NaN         1.9\n",
       "4       Elegant Gagarin           1439  2023-02             0.3         2.1\n",
       "..                  ...            ...      ...             ...         ...\n",
       "35  Nostalgic Goldstine           1350  2023-10             8.4         4.5\n",
       "36         Gifted Bassi           1376  2023-10             7.0         9.4\n",
       "37         Silly Merkle           1382  2023-10             1.5         0.7\n",
       "38      Relaxed Hypatia           1499  2023-10             2.7         9.7\n",
       "39          Eager Elion           1205  2023-10             2.5         4.6\n",
       "\n",
       "[360 rows x 5 columns]"
      ]
     },
     "metadata": {},
     "output_type": "display_data"
    },
    {
     "data": {
      "text/html": [
       "<div>\n",
       "<style scoped>\n",
       "    .dataframe tbody tr th:only-of-type {\n",
       "        vertical-align: middle;\n",
       "    }\n",
       "\n",
       "    .dataframe tbody tr th {\n",
       "        vertical-align: top;\n",
       "    }\n",
       "\n",
       "    .dataframe thead th {\n",
       "        text-align: right;\n",
       "    }\n",
       "</style>\n",
       "<table border=\"1\" class=\"dataframe\">\n",
       "  <thead>\n",
       "    <tr style=\"text-align: right;\">\n",
       "      <th></th>\n",
       "      <th>identificacao</th>\n",
       "      <th>turma</th>\n",
       "      <th>mes</th>\n",
       "      <th>nota geografia</th>\n",
       "      <th>nota historia</th>\n",
       "    </tr>\n",
       "  </thead>\n",
       "  <tbody>\n",
       "    <tr>\n",
       "      <th>0</th>\n",
       "      <td>1408</td>\n",
       "      <td>A</td>\n",
       "      <td>2023-02</td>\n",
       "      <td>0.7</td>\n",
       "      <td>4.5</td>\n",
       "    </tr>\n",
       "    <tr>\n",
       "      <th>1</th>\n",
       "      <td>1388</td>\n",
       "      <td>A</td>\n",
       "      <td>2023-02</td>\n",
       "      <td>6.6</td>\n",
       "      <td>0.2</td>\n",
       "    </tr>\n",
       "    <tr>\n",
       "      <th>2</th>\n",
       "      <td>1212</td>\n",
       "      <td>A</td>\n",
       "      <td>2023-02</td>\n",
       "      <td>6.3</td>\n",
       "      <td>2.7</td>\n",
       "    </tr>\n",
       "    <tr>\n",
       "      <th>3</th>\n",
       "      <td>1421</td>\n",
       "      <td>A</td>\n",
       "      <td>2023-02</td>\n",
       "      <td>2.2</td>\n",
       "      <td>7.3</td>\n",
       "    </tr>\n",
       "    <tr>\n",
       "      <th>4</th>\n",
       "      <td>1439</td>\n",
       "      <td>A</td>\n",
       "      <td>2023-02</td>\n",
       "      <td>4.2</td>\n",
       "      <td>4.6</td>\n",
       "    </tr>\n",
       "    <tr>\n",
       "      <th>...</th>\n",
       "      <td>...</td>\n",
       "      <td>...</td>\n",
       "      <td>...</td>\n",
       "      <td>...</td>\n",
       "      <td>...</td>\n",
       "    </tr>\n",
       "    <tr>\n",
       "      <th>35</th>\n",
       "      <td>1350</td>\n",
       "      <td>B</td>\n",
       "      <td>2023-10</td>\n",
       "      <td>5.0</td>\n",
       "      <td>6.3</td>\n",
       "    </tr>\n",
       "    <tr>\n",
       "      <th>36</th>\n",
       "      <td>1376</td>\n",
       "      <td>B</td>\n",
       "      <td>2023-10</td>\n",
       "      <td>NaN</td>\n",
       "      <td>NaN</td>\n",
       "    </tr>\n",
       "    <tr>\n",
       "      <th>37</th>\n",
       "      <td>1382</td>\n",
       "      <td>B</td>\n",
       "      <td>2023-10</td>\n",
       "      <td>1.3</td>\n",
       "      <td>3.8</td>\n",
       "    </tr>\n",
       "    <tr>\n",
       "      <th>38</th>\n",
       "      <td>1499</td>\n",
       "      <td>B</td>\n",
       "      <td>2023-10</td>\n",
       "      <td>9.0</td>\n",
       "      <td>5.5</td>\n",
       "    </tr>\n",
       "    <tr>\n",
       "      <th>39</th>\n",
       "      <td>1205</td>\n",
       "      <td>B</td>\n",
       "      <td>2023-10</td>\n",
       "      <td>3.1</td>\n",
       "      <td>5.2</td>\n",
       "    </tr>\n",
       "  </tbody>\n",
       "</table>\n",
       "<p>360 rows × 5 columns</p>\n",
       "</div>"
      ],
      "text/plain": [
       "    identificacao turma      mes nota geografia nota historia\n",
       "0            1408     A  2023-02            0.7           4.5\n",
       "1            1388     A  2023-02            6.6           0.2\n",
       "2            1212     A  2023-02            6.3           2.7\n",
       "3            1421     A  2023-02            2.2           7.3\n",
       "4            1439     A  2023-02            4.2           4.6\n",
       "..            ...   ...      ...            ...           ...\n",
       "35           1350     B  2023-10            5.0           6.3\n",
       "36           1376     B  2023-10            NaN           NaN\n",
       "37           1382     B  2023-10            1.3           3.8\n",
       "38           1499     B  2023-10            9.0           5.5\n",
       "39           1205     B  2023-10            3.1           5.2\n",
       "\n",
       "[360 rows x 5 columns]"
      ]
     },
     "metadata": {},
     "output_type": "display_data"
    }
   ],
   "source": [
    "# dataframes finais\n",
    "display(df1)\n",
    "display(df2)"
   ]
  },
  {
   "attachments": {},
   "cell_type": "markdown",
   "metadata": {},
   "source": [
    "## Ferramentas básicas de manipulação de dataframes"
   ]
  },
  {
   "cell_type": "code",
   "execution_count": 13,
   "metadata": {},
   "outputs": [
    {
     "name": "stdout",
     "output_type": "stream",
     "text": [
      "['aluno' 'identificacao' 'mes' 'nota matematica' 'nota fisica']\n"
     ]
    },
    {
     "data": {
      "text/plain": [
       "['aluno', 'identificacao', 'mes', 'nota matematica', 'nota fisica']"
      ]
     },
     "execution_count": 13,
     "metadata": {},
     "output_type": "execute_result"
    }
   ],
   "source": [
    "# mostrar nome de todas as colunas de df1\n",
    "print(df1.columns.values)\n",
    "#ou\n",
    "df1.columns.tolist()"
   ]
  },
  {
   "cell_type": "code",
   "execution_count": 14,
   "metadata": {},
   "outputs": [
    {
     "name": "stdout",
     "output_type": "stream",
     "text": [
      "quantidade máxima de linhas exibidas por padrão: 60\n",
      "quantidade máxima de colunas exibidas por padrão: 20\n"
     ]
    }
   ],
   "source": [
    "# ver quantidade maxima de linhas e colunas que são exibidas por padrão\n",
    "qtd_cols_padrao = pd.options.display.max_columns\n",
    "qtd_rows_padrao = pd.options.display.max_rows\n",
    "print('quantidade máxima de linhas exibidas por padrão: '+str(qtd_rows_padrao))\n",
    "print('quantidade máxima de colunas exibidas por padrão: '+str(qtd_cols_padrao))\n",
    "\n",
    "# configurar o pandas para mostrar todas as colunas em todos os dataframes\n",
    "pd.set_option('display.max_columns', 900)\n",
    "# ou\n",
    "# pd.options.display.max_columns = None\n",
    "\n",
    "# retornar o padrão à quantidade inicial\n",
    "# pd.options.display.max_columns = qtd_cols_padrao\n",
    "pd.set_option('display.max_columns', qtd_cols_padrao)"
   ]
  },
  {
   "cell_type": "code",
   "execution_count": 15,
   "metadata": {},
   "outputs": [],
   "source": [
    "# mostrar todas as linhas por padrão\n",
    "pd.set_option('display.max_rows', 900)\n",
    "# ou\n",
    "# pd.options.display.max_rows = 900\n",
    "\n",
    "# retornar o padrão à quantidade inicial\n",
    "# pd.options.display.max_columns = qtd_rows_padrao\n",
    "pd.set_option('display.max_rows', qtd_rows_padrao)"
   ]
  },
  {
   "attachments": {},
   "cell_type": "markdown",
   "metadata": {
    "ExecuteTime": {
     "end_time": "2022-07-05T13:27:21.980564Z",
     "start_time": "2022-07-05T13:27:21.978670Z"
    }
   },
   "source": [
    "## Ferramentas de análise descritiva"
   ]
  },
  {
   "cell_type": "code",
   "execution_count": null,
   "metadata": {},
   "outputs": [],
   "source": []
  }
 ],
 "metadata": {
  "kernelspec": {
   "display_name": "Python 3 (ipykernel)",
   "language": "python",
   "name": "python3"
  },
  "language_info": {
   "codemirror_mode": {
    "name": "ipython",
    "version": 3
   },
   "file_extension": ".py",
   "mimetype": "text/x-python",
   "name": "python",
   "nbconvert_exporter": "python",
   "pygments_lexer": "ipython3",
   "version": "3.8.10"
  },
  "toc": {
   "base_numbering": 1,
   "nav_menu": {},
   "number_sections": true,
   "sideBar": true,
   "skip_h1_title": false,
   "title_cell": "Table of Contents",
   "title_sidebar": "Contents",
   "toc_cell": false,
   "toc_position": {},
   "toc_section_display": true,
   "toc_window_display": false
  },
  "widgets": {
   "application/vnd.jupyter.widget-state+json": {
    "state": {},
    "version_major": 2,
    "version_minor": 0
   }
  }
 },
 "nbformat": 4,
 "nbformat_minor": 4
}